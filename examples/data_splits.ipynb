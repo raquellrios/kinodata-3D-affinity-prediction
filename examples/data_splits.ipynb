{
 "cells": [
  {
   "cell_type": "markdown",
   "metadata": {},
   "source": [
    "## Kinodata-3D data splits and filtering\n"
   ]
  },
  {
   "cell_type": "markdown",
   "metadata": {},
   "source": [
    "### RMSD estimates and filtering\n",
    "The Kinodata-3D dataset can be associated with a confidence model that estimates the\n",
    "quality of docked poses in terms of their docking RMSD.\n",
    "\n",
    "More information regarding the RMSD prediction model and training data is found [here](https://github.com/volkamerlab/kinodata-3D).\n",
    "The raw data already encodes the precomputed RMSD estimates."
   ]
  },
  {
   "cell_type": "code",
   "execution_count": 1,
   "metadata": {},
   "outputs": [
    {
     "name": "stderr",
     "output_type": "stream",
     "text": [
      "/Users/joschka/mambaforge/envs/kinodata/lib/python3.10/site-packages/tqdm/auto.py:22: TqdmWarning: IProgress not found. Please update jupyter and ipywidgets. See https://ipywidgets.readthedocs.io/en/stable/user_install.html\n",
      "  from .autonotebook import tqdm as notebook_tqdm\n"
     ]
    }
   ],
   "source": [
    "from kinodata.data.dataset import KinodataDocked\n",
    "import numpy as np\n",
    "from typing import Literal\n",
    "\n",
    "dataset = KinodataDocked()"
   ]
  },
  {
   "cell_type": "code",
   "execution_count": 2,
   "metadata": {},
   "outputs": [],
   "source": [
    "predicted_rmsd = dataset.data.predicted_rmsd.numpy()"
   ]
  },
  {
   "cell_type": "markdown",
   "metadata": {},
   "source": [
    "These predictions contain some outliers that should be filtered or imputed"
   ]
  },
  {
   "cell_type": "code",
   "execution_count": 3,
   "metadata": {},
   "outputs": [
    {
     "data": {
      "text/plain": [
       "<AxesSubplot: ylabel='Count'>"
      ]
     },
     "execution_count": 3,
     "metadata": {},
     "output_type": "execute_result"
    },
    {
     "data": {
      "image/png": "[encoded data removed]",
      "text/plain": [
       "<Figure size 640x480 with 1 Axes>"
      ]
     },
     "metadata": {},
     "output_type": "display_data"
    }
   ],
   "source": [
    "(predicted_rmsd > 20).mean(), (predicted_rmsd < 0).mean()\n",
    "predicted_rmsd[predicted_rmsd > 10] = predicted_rmsd[predicted_rmsd <= 10].max()\n",
    "predicted_rmsd[predicted_rmsd < 0] = predicted_rmsd[predicted_rmsd >= 0].min()\n",
    "import seaborn as sns\n",
    "sns.histplot(\n",
    "   x=predicted_rmsd \n",
    ")"
   ]
  },
  {
   "cell_type": "markdown",
   "metadata": {},
   "source": [
    "### Pre-computed splits and preprocessed dataset\n",
    "The splits used in [the Kinodata-3D publication](https://chemrxiv.org/engage/chemrxiv/article-details/658441f7e9ebbb4db96d98e8) are [available on Zenodo](https://zenodo.org/records/10886085) and\n",
    "are guaranteed to be compatible with the preprocessed version of the dataset available through the same Zenodo record.\n",
    "\n",
    "The following code snippet briefly demonstrates how to recreate the data modules we used to train the published models."
   ]
  },
  {
   "cell_type": "code",
   "execution_count": 4,
   "metadata": {},
   "outputs": [],
   "source": [
    "from kinodata.data.data_module import make_kinodata_module\n",
    "import kinodata.configuration as config\n",
    "\n",
    "data_config = config.get(\n",
    "    \"data\",\n",
    "    \"training\"\n",
    ")"
   ]
  },
  {
   "cell_type": "markdown",
   "metadata": {},
   "source": [
    "The relevant configuration options are\n",
    "- `filter_rmsd_max_value`, type `float`\n",
    "- `split_type`, one of `\"random-k-fold\"`, `\"scaffold-k-fold\"` or `\"pocket-k-fold\"`\n",
    "- `k_fold`, type `int`, number of folds\n",
    "- `index`, type `int`, determines train/test assignment of folds"
   ]
  },
  {
   "cell_type": "code",
   "execution_count": 5,
   "metadata": {},
   "outputs": [],
   "source": [
    "split_type: Literal[\"random-k-fold\", \"scaffold-k-fold\", \"pocket-k-fold\"] = \"random-k-fold\"\n",
    "\n",
    "data_config[\"filter_rmsd_max_value\"] = 2\n",
    "data_config[\"split_type\"] = split_type\n",
    "data_config[\"k_fold\"] = 5\n",
    "data_config[\"index\"] = 0"
   ]
  },
  {
   "cell_type": "code",
   "execution_count": 6,
   "metadata": {},
   "outputs": [
    {
     "name": "stdout",
     "output_type": "stream",
     "text": [
      "Creating data module:\n",
      "    split:Split[int](train=19364, val=2420, test=2421, source=/Users/joschka/projects/kinodata-docked-rescore/data/processed/filter_predicted_rmsd_le2.00/random-k-fold/1:5.csv)\n",
      "    train_transform:Compose([\n",
      "\n",
      "])\n",
      "    val_transform:Compose([\n",
      "\n",
      "])\n"
     ]
    }
   ],
   "source": [
    "data_module = make_kinodata_module(data_config)"
   ]
  },
  {
   "cell_type": "code",
   "execution_count": 7,
   "metadata": {},
   "outputs": [
    {
     "name": "stdout",
     "output_type": "stream",
     "text": [
      "HeteroDataBatch(\n",
      "  kissim_fp=[128, 85, 12],\n",
      "  y=[128],\n",
      "  docking_score=[128],\n",
      "  posit_prob=[128],\n",
      "  predicted_rmsd=[128],\n",
      "  pocket_sequence=[128],\n",
      "  scaffold=[128],\n",
      "  activity_type=[128],\n",
      "  ident=[128],\n",
      "  smiles=[128],\n",
      "  \u001b[1mligand\u001b[0m={\n",
      "    z=[3997],\n",
      "    x=[3997, 12],\n",
      "    pos=[3997, 3],\n",
      "    batch=[3997],\n",
      "    ptr=[129]\n",
      "  },\n",
      "  \u001b[1mpocket\u001b[0m={\n",
      "    z=[84717],\n",
      "    x=[84717, 12],\n",
      "    pos=[84717, 3],\n",
      "    batch=[84717],\n",
      "    ptr=[129]\n",
      "  },\n",
      "  \u001b[1mpocket_residue\u001b[0m={\n",
      "    x=[10880, 23],\n",
      "    batch=[10880],\n",
      "    ptr=[129]\n",
      "  },\n",
      "  \u001b[1m(ligand, bond, ligand)\u001b[0m={\n",
      "    edge_index=[2, 8858],\n",
      "    edge_attr=[8858, 4]\n",
      "  },\n",
      "  \u001b[1m(pocket, bond, pocket)\u001b[0m={\n",
      "    edge_index=[2, 170756],\n",
      "    edge_attr=[170756, 4]\n",
      "  }\n",
      ")\n"
     ]
    }
   ],
   "source": [
    "batch = next(iter(data_module.train_dataloader()))\n",
    "print(batch)"
   ]
  },
  {
   "cell_type": "markdown",
   "metadata": {},
   "source": [
    "If you want more control for your own use case, you can also create data splits and data modules separately:"
   ]
  },
  {
   "cell_type": "code",
   "execution_count": 8,
   "metadata": {},
   "outputs": [
    {
     "data": {
      "text/plain": [
       "HeteroDataBatch(\n",
       "  kissim_fp=[32, 85, 12],\n",
       "  y=[32],\n",
       "  docking_score=[32],\n",
       "  posit_prob=[32],\n",
       "  predicted_rmsd=[32],\n",
       "  pocket_sequence=[32],\n",
       "  scaffold=[32],\n",
       "  activity_type=[32],\n",
       "  ident=[32],\n",
       "  smiles=[32],\n",
       "  \u001b[1mligand\u001b[0m={\n",
       "    z=[1000],\n",
       "    x=[1000, 12],\n",
       "    pos=[1000, 3],\n",
       "    batch=[1000],\n",
       "    ptr=[33]\n",
       "  },\n",
       "  \u001b[1mpocket\u001b[0m={\n",
       "    z=[21024],\n",
       "    x=[21024, 12],\n",
       "    pos=[21024, 3],\n",
       "    batch=[21024],\n",
       "    ptr=[33]\n",
       "  },\n",
       "  \u001b[1mpocket_residue\u001b[0m={\n",
       "    x=[2720, 23],\n",
       "    batch=[2720],\n",
       "    ptr=[33]\n",
       "  },\n",
       "  \u001b[1m(ligand, bond, ligand)\u001b[0m={\n",
       "    edge_index=[2, 2234],\n",
       "    edge_attr=[2234, 4]\n",
       "  },\n",
       "  \u001b[1m(pocket, bond, pocket)\u001b[0m={\n",
       "    edge_index=[2, 42412],\n",
       "    edge_attr=[42412, 4]\n",
       "  }\n",
       ")"
      ]
     },
     "execution_count": 8,
     "metadata": {},
     "output_type": "execute_result"
    }
   ],
   "source": [
    "from kinodata.data.grouped_split import KinodataKFoldSplit\n",
    "from kinodata.data.data_module import make_data_module\n",
    "\n",
    "# create 5 splits and use the first one\n",
    "demo_split = KinodataKFoldSplit(split_type, k=5).split(dataset)[0]\n",
    "# this could take a while, expect ~60 seconds\n",
    "data_module = make_data_module(\n",
    "   split=demo_split,\n",
    "   batch_size=32,\n",
    "   dataset_cls=KinodataDocked,\n",
    "   num_workers=0,\n",
    "   train_kwargs=dict(),\n",
    ")\n",
    "demo_batch = next(iter(data_module.train_dataloader()))\n",
    "demo_batch"
   ]
  }
 ],
 "metadata": {
  "kernelspec": {
   "display_name": "Python 3.10.8 ('kinodata')",
   "language": "python",
   "name": "python3"
  },
  "language_info": {
   "codemirror_mode": {
    "name": "ipython",
    "version": 3
   },
   "file_extension": ".py",
   "mimetype": "text/x-python",
   "name": "python",
   "nbconvert_exporter": "python",
   "pygments_lexer": "ipython3",
   "version": "3.10.8"
  },
  "orig_nbformat": 4,
  "vscode": {
   "interpreter": {
    "hash": "528a87b2665604848835e963d9b59f6a2ef408edd78da891397a1684bf62ca9e"
   }
  }
 },
 "nbformat": 4,
 "nbformat_minor": 2
}
