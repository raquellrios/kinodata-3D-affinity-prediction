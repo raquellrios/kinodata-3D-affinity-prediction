{
 "cells": [
  {
   "cell_type": "markdown",
   "metadata": {},
   "source": [
    "# Working with the Kinodata-3D dataset"
   ]
  },
  {
   "cell_type": "markdown",
   "metadata": {},
   "source": [
    "If you plan to use Kinodata-3D within any projects that involve geometric deep learning based on [PyTorch Geometric](https://pytorch-geometric.readthedocs.io/en/latest/) you can re-use [our PyG dataset](#pyg-dataset).\n",
    "\n",
    "For all other cases, we provide a [framework-agnostic dataset](#framework-agnostic-dataset)."
   ]
  },
  {
   "cell_type": "markdown",
   "metadata": {},
   "source": [
    "## Framework-agnostic dataset"
   ]
  },
  {
   "cell_type": "code",
   "execution_count": 1,
   "metadata": {},
   "outputs": [
    {
     "name": "stderr",
     "output_type": "stream",
     "text": [
      "/Users/joschka/mambaforge/envs/kinodata/lib/python3.10/site-packages/tqdm/auto.py:22: TqdmWarning: IProgress not found. Please update jupyter and ipywidgets. See https://ipywidgets.readthedocs.io/en/stable/user_install.html\n",
      "  from .autonotebook import tqdm as notebook_tqdm\n"
     ]
    },
    {
     "name": "stdout",
     "output_type": "stream",
     "text": [
      "Loading raw data from /Users/joschka/projects/kinodata-docked-rescore/data/raw...\n",
      "Reading data frame from /Users/joschka/projects/kinodata-docked-rescore/data/raw/kinodata_docked_with_rmsd.sdf.gz...\n",
      "Deduping data frame (current size: 124761)...\n",
      "122747 complexes remain after deduplication.\n",
      "Checking for missing pocket mol2 files...\n"
     ]
    },
    {
     "name": "stderr",
     "output_type": "stream",
     "text": [
      "100%|██████████| 2885/2885 [00:00<00:00, 59948.91it/s]\n"
     ]
    },
    {
     "name": "stdout",
     "output_type": "stream",
     "text": [
      "Adding pocket sequences from cached file /Users/joschka/projects/kinodata-docked-rescore/data/raw/pocket_sequences.csv.\n",
      "Converting to data list...\n",
      "Done!\n"
     ]
    }
   ],
   "source": [
    "from kinodata.data import KinodataDockedAgnostic\n",
    "from kinodata.data.data_module import make_data_module\n",
    "\n",
    "dataset = KinodataDockedAgnostic()"
   ]
  },
  {
   "cell_type": "code",
   "execution_count": 2,
   "metadata": {},
   "outputs": [
    {
     "data": {
      "text/plain": [
       "ComplexInformation(kinodata_ident='32336', compound_smiles='Nc1ncnc2c1c(-c1cccc(Oc3ccccc3)c1)cn2C1CCCC1', molecule=<rdkit.Chem.rdchem.Mol object at 0x14fc9a730>, activity_value=5.468521, activity_type='pIC50', pocket_mol2_file=PosixPath('/Users/joschka/projects/kinodata-docked-rescore/data/raw/mol2/pocket/5553_pocket.mol2'), docking_score=-10.307055, posit_probability=0.24, klifs_structure_id=5553, pocket_sequence='DVIGEG__GQVLKAAIKRM____ELEVLCKLGPNIINLLGAYLAIEYAPHGNLLDFLRKYLSQKQFIHRNLAARNILVIADFGLS', predicted_rmsd=4.790116, remove_hydrogen=True)"
      ]
     },
     "execution_count": 2,
     "metadata": {},
     "output_type": "execute_result"
    }
   ],
   "source": [
    "next(iter(dataset))"
   ]
  },
  {
   "cell_type": "markdown",
   "metadata": {},
   "source": [
    "## PyG Dataset"
   ]
  },
  {
   "cell_type": "code",
   "execution_count": 3,
   "metadata": {},
   "outputs": [],
   "source": [
    "from kinodata.data.dataset import KinodataDocked"
   ]
  },
  {
   "cell_type": "markdown",
   "metadata": {},
   "source": [
    "### Create/load the dataset\n",
    "Instantiating the dataset for the first time will trigger the data preprocessing, which creates the PyG data objects.\n",
    "This process takes a while (~ 1 hour on a 2021 MacBook Pro), but the result is cached on disk to accelerate future instantiations.\n",
    "\n",
    "**Note**: you may also obtain our [preprocessed version of the dataset](https://zenodo.org/records/10886085)."
   ]
  },
  {
   "cell_type": "code",
   "execution_count": 4,
   "metadata": {},
   "outputs": [
    {
     "data": {
      "text/plain": [
       "KinodataDocked(104836)"
      ]
     },
     "execution_count": 4,
     "metadata": {},
     "output_type": "execute_result"
    }
   ],
   "source": [
    "dataset = KinodataDocked()\n",
    "dataset"
   ]
  },
  {
   "cell_type": "markdown",
   "metadata": {},
   "source": [
    "### Data representation and data loading\n",
    "Docked complexes are stored/represented as [heterogenous graph data](https://pytorch-geometric.readthedocs.io/en/latest/generated/torch_geometric.data.HeteroData.html?highlight=heterodata) objects."
   ]
  },
  {
   "cell_type": "code",
   "execution_count": 5,
   "metadata": {},
   "outputs": [
    {
     "name": "stdout",
     "output_type": "stream",
     "text": [
      "HeteroData(\n",
      "  kissim_fp=[1, 85, 12],\n",
      "  y=[1],\n",
      "  docking_score=[1],\n",
      "  posit_prob=[1],\n",
      "  predicted_rmsd=[1],\n",
      "  pocket_sequence='KSLGRGAFGKVVQVAVKMLALMTELKILTHIGLNVVNLLGAMVIVEYCKYGNLSNYLKSFLSSRKCIHRDLAARNILLICDFGLA',\n",
      "  scaffold='C1CCC(CC2CCCC2)CC1',\n",
      "  activity_type='pIC50',\n",
      "  ident='53974',\n",
      "  smiles='Cc1cnc(Nc2ccccn2)s1',\n",
      "  \u001b[1mligand\u001b[0m={\n",
      "    z=[13],\n",
      "    x=[13, 12],\n",
      "    pos=[13, 3]\n",
      "  },\n",
      "  \u001b[1mpocket\u001b[0m={\n",
      "    z=[652],\n",
      "    x=[652, 12],\n",
      "    pos=[652, 3]\n",
      "  },\n",
      "  \u001b[1mpocket_residue\u001b[0m={ x=[85, 23] },\n",
      "  \u001b[1m(ligand, bond, ligand)\u001b[0m={\n",
      "    edge_index=[2, 28],\n",
      "    edge_attr=[28, 4]\n",
      "  },\n",
      "  \u001b[1m(pocket, bond, pocket)\u001b[0m={\n",
      "    edge_index=[2, 1306],\n",
      "    edge_attr=[1306, 4]\n",
      "  }\n",
      ")\n"
     ]
    }
   ],
   "source": [
    "data = dataset[42]\n",
    "print(data)"
   ]
  },
  {
   "cell_type": "code",
   "execution_count": 6,
   "metadata": {},
   "outputs": [
    {
     "name": "stdout",
     "output_type": "stream",
     "text": [
      "Node types: ligand, pocket, pocket_residue\n",
      "Edge types: ('ligand', 'bond', 'ligand'), ('pocket', 'bond', 'pocket')\n",
      "Number of ligand heavy atoms: 13\n",
      "Number of pocket heavy atoms: 652\n",
      "Position of ligand atom indexed 0: tensor([ 1.3422, 21.6702, 38.2683])\n",
      "Position of pocket atom indexed 0: tensor([ 9.7198, 18.2420, 49.8679])\n"
     ]
    }
   ],
   "source": [
    "node_types, edge_types = data.metadata()\n",
    "print(f\"Node types: {', '.join([nt for nt in node_types])}\")\n",
    "print(f\"Edge types: {', '.join([str(et) for et in edge_types])}\")\n",
    "print(f\"Number of ligand heavy atoms: {data['ligand'].x.size(0)}\")\n",
    "print(f\"Number of pocket heavy atoms: {data['pocket'].x.size(0)}\")\n",
    "print(f\"Position of ligand atom indexed 0: {data['ligand'].pos[0]}\")\n",
    "print(f\"Position of pocket atom indexed 0: {data['pocket'].pos[0]}\")"
   ]
  },
  {
   "cell_type": "markdown",
   "metadata": {},
   "source": [
    "Typically you'll want split data into train, test (and validation) sets.\n",
    "You can choose to reuse our code for creating a data module that hosts datasets and loaders for train, test and validation splits.\n",
    "This is detailed in [examples/data_splits.ipynb](data_splits.ipynb)."
   ]
  },
  {
   "cell_type": "markdown",
   "metadata": {},
   "source": [
    "### Complex graph representation"
   ]
  },
  {
   "cell_type": "code",
   "execution_count": 7,
   "metadata": {},
   "outputs": [],
   "source": [
    "import kinodata.transform as T"
   ]
  },
  {
   "cell_type": "markdown",
   "metadata": {},
   "source": [
    "If you want to use the complex graph representation from the Kinodata-3D publication use"
   ]
  },
  {
   "cell_type": "code",
   "execution_count": 8,
   "metadata": {},
   "outputs": [],
   "source": [
    "dataset = KinodataDocked(\n",
    "    transform=T.TransformToComplexGraph(remove_heterogeneous_representation=True)\n",
    ")"
   ]
  },
  {
   "cell_type": "code",
   "execution_count": 9,
   "metadata": {},
   "outputs": [
    {
     "name": "stdout",
     "output_type": "stream",
     "text": [
      "Node types: pocket_residue, complex\n",
      "Edge types: ('complex', 'bond', 'complex')\n",
      "Number of complex heavy atoms: 665\n"
     ]
    }
   ],
   "source": [
    "data = dataset[42]\n",
    "\n",
    "node_types, edge_types = data.metadata()\n",
    "print(f\"Node types: {', '.join([nt for nt in node_types])}\")\n",
    "print(f\"Edge types: {', '.join([str(et) for et in edge_types])}\")\n",
    "print(f\"Number of complex heavy atoms: {data['complex'].x.size(0)}\")"
   ]
  },
  {
   "cell_type": "markdown",
   "metadata": {},
   "source": [
    "When creating a data module, holding different (i.e. train, validation, and test) datasets, the transform is passed down to the datasets via the `train_kwargs`, `val_kwargs` and `test_kwargs` keyword arguments;"
   ]
  },
  {
   "cell_type": "code",
   "execution_count": 10,
   "metadata": {},
   "outputs": [],
   "source": [
    "# this could take a while, expect ~60 seconds\n",
    "from kinodata.data.grouped_split import KinodataKFoldSplit\n",
    "\n",
    "demo_split = KinodataKFoldSplit(\"random-k-fold\", k=5).split(dataset)[0]\n",
    "data_module = make_data_module(\n",
    "    split=demo_split,\n",
    "   batch_size=32,\n",
    "   dataset_cls=KinodataDocked,\n",
    "   num_workers=0,\n",
    "   train_kwargs=dict(\n",
    "       transform=T.TransformToComplexGraph(),\n",
    "   ),\n",
    ")"
   ]
  },
  {
   "cell_type": "code",
   "execution_count": 11,
   "metadata": {},
   "outputs": [
    {
     "data": {
      "text/plain": [
       "HeteroDataBatch(\n",
       "  kissim_fp=[32, 85, 12],\n",
       "  y=[32],\n",
       "  docking_score=[32],\n",
       "  posit_prob=[32],\n",
       "  predicted_rmsd=[32],\n",
       "  pocket_sequence=[32],\n",
       "  scaffold=[32],\n",
       "  activity_type=[32],\n",
       "  ident=[32],\n",
       "  smiles=[32],\n",
       "  \u001b[1mligand\u001b[0m={\n",
       "    z=[931],\n",
       "    x=[931, 12],\n",
       "    pos=[931, 3],\n",
       "    batch=[931],\n",
       "    ptr=[33]\n",
       "  },\n",
       "  \u001b[1mpocket\u001b[0m={\n",
       "    z=[21094],\n",
       "    x=[21094, 12],\n",
       "    pos=[21094, 3],\n",
       "    batch=[21094],\n",
       "    ptr=[33]\n",
       "  },\n",
       "  \u001b[1mpocket_residue\u001b[0m={\n",
       "    x=[2720, 23],\n",
       "    batch=[2720],\n",
       "    ptr=[33]\n",
       "  },\n",
       "  \u001b[1mcomplex\u001b[0m={\n",
       "    x=[22025, 12],\n",
       "    z=[22025],\n",
       "    pos=[22025, 3],\n",
       "    batch=[22025],\n",
       "    ptr=[33]\n",
       "  },\n",
       "  \u001b[1m(ligand, bond, ligand)\u001b[0m={\n",
       "    edge_index=[2, 2066],\n",
       "    edge_attr=[2066, 4]\n",
       "  },\n",
       "  \u001b[1m(pocket, bond, pocket)\u001b[0m={\n",
       "    edge_index=[2, 42460],\n",
       "    edge_attr=[42460, 4]\n",
       "  },\n",
       "  \u001b[1m(complex, bond, complex)\u001b[0m={\n",
       "    edge_index=[2, 44526],\n",
       "    edge_attr=[44526, 4]\n",
       "  }\n",
       ")"
      ]
     },
     "execution_count": 11,
     "metadata": {},
     "output_type": "execute_result"
    }
   ],
   "source": [
    "demo_batch = next(iter(data_module.train_dataloader()))\n",
    "demo_batch"
   ]
  },
  {
   "cell_type": "markdown",
   "metadata": {},
   "source": [
    "### Relative structural information\n",
    "\n",
    "Note that the structural information is encoded as absolute 3D coordinates in the above data sets.\n",
    "\n",
    "Our transformer adds distance-based edges on the fly, which is implemented in a separated PyTorch `nn.Module`."
   ]
  },
  {
   "cell_type": "code",
   "execution_count": 12,
   "metadata": {},
   "outputs": [],
   "source": [
    "from kinodata.model.complex_transformer import StructuralInteractions"
   ]
  },
  {
   "cell_type": "code",
   "execution_count": 13,
   "metadata": {},
   "outputs": [],
   "source": [
    "interaction_module = StructuralInteractions(\n",
    "    32,\n",
    "    interaction_radius=5.0,\n",
    "    max_num_neighbors=16,\n",
    "    rbf_size=32\n",
    ")"
   ]
  },
  {
   "cell_type": "code",
   "execution_count": 14,
   "metadata": {},
   "outputs": [
    {
     "data": {
      "image/png": "[encoded data removed]",
      "text/plain": [
       "<Figure size 500x500 with 1 Axes>"
      ]
     },
     "metadata": {},
     "output_type": "display_data"
    }
   ],
   "source": [
    "import seaborn as sns\n",
    "edge_index, _, distances = interaction_module.interactions(demo_batch)\n",
    "\n",
    "fig = sns.displot(x=distances.numpy(), kde=True, rug=True)\n",
    "fig.axes[0,0].set_title(f\"Batch size {demo_batch['ligand'].batch.max().item() + 1}\")\n",
    "_ = fig.axes[0,0].set_xlabel(\"Distance (angstrom)\")"
   ]
  }
 ],
 "metadata": {
  "kernelspec": {
   "display_name": "Python 3.10.8 ('kinodata')",
   "language": "python",
   "name": "python3"
  },
  "language_info": {
   "codemirror_mode": {
    "name": "ipython",
    "version": 3
   },
   "file_extension": ".py",
   "mimetype": "text/x-python",
   "name": "python",
   "nbconvert_exporter": "python",
   "pygments_lexer": "ipython3",
   "version": "3.10.8"
  },
  "orig_nbformat": 4,
  "vscode": {
   "interpreter": {
    "hash": "528a87b2665604848835e963d9b59f6a2ef408edd78da891397a1684bf62ca9e"
   }
  }
 },
 "nbformat": 4,
 "nbformat_minor": 2
}
