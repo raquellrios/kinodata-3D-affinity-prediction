{
 "cells": [
  {
   "cell_type": "markdown",
   "metadata": {},
   "source": [
    "## Validating pre-trained models\n",
    "This code demonstrates how to load our trained models and one way of doing using them for inference.\n",
    "It requires that you downloaded and extracted the [pretrained models and the corresponding preprocessed version of kinodata-3D](https://zenodo.org/records/10410594)\n",
    "in the root directory of this repository."
   ]
  },
  {
   "cell_type": "code",
   "execution_count": 1,
   "metadata": {},
   "outputs": [
    {
     "name": "stderr",
     "output_type": "stream",
     "text": [
      "/home/raquellrdc/.local/lib/python3.10/site-packages/tqdm/auto.py:21: TqdmWarning: IProgress not found. Please update jupyter and ipywidgets. See https://ipywidgets.readthedocs.io/en/stable/user_install.html\n",
      "  from .autonotebook import tqdm as notebook_tqdm\n"
     ]
    }
   ],
   "source": [
    "import json\n",
    "from pathlib import Path\n",
    "from typing import Any\n",
    "\n",
    "import torch\n",
    "\n",
    "import kinodata.configuration as cfg\n",
    "from kinodata.model import ComplexTransformer, DTIModel, RegressionModel\n",
    "from kinodata.model.complex_transformer import make_model as make_complex_transformer\n",
    "from kinodata.model.dti import make_model as make_dti_baseline\n",
    "from kinodata.data.data_module import make_kinodata_module\n",
    "from kinodata.transform import TransformToComplexGraph"
   ]
  },
  {
   "cell_type": "code",
   "execution_count": 2,
   "metadata": {},
   "outputs": [
    {
     "name": "stdout",
     "output_type": "stream",
     "text": [
      "W&B disabled.\n"
     ]
    }
   ],
   "source": [
    "!wandb disabled"
   ]
  },
  {
   "cell_type": "markdown",
   "metadata": {},
   "source": [
    "Demo boilerplate code for loading model checkpoints, reuses parts of our training/evaluation code."
   ]
  },
  {
   "cell_type": "code",
   "execution_count": 3,
   "metadata": {},
   "outputs": [],
   "source": [
    "model_dir = Path(\"..\") / \"models\"\n",
    "assert model_dir.exists()\n",
    "\n",
    "def path_to_model(rmsd_threshold: int, split_type: str, split_fold: int, model_type: str) -> Path:\n",
    "    p = model_dir / f\"rmsd_cutoff_{rmsd_threshold}\" / split_type / str(split_fold) / model_type\n",
    "    if not p.exists():\n",
    "        p.mkdir(parents=True)\n",
    "    return p\n",
    "model_cls = {\n",
    "    \"DTI\": make_dti_baseline,\n",
    "    \"CGNN\": make_complex_transformer,\n",
    "    \"CGNN-3D\": make_complex_transformer\n",
    "}\n",
    "\n",
    "def load_wandb_config(\n",
    "    config_file: Path\n",
    ") -> dict[str, Any]:\n",
    "    with open(config_file, \"r\") as f_config:\n",
    "        config = json.load(f_config)\n",
    "    config = {str(key): value[\"value\"] for key, value in config.items()}\n",
    "    return config\n",
    "\n",
    "def load_from_checkpoint(\n",
    "    rmsd_threshold: int,\n",
    "    split_type: str,\n",
    "    fold: int,\n",
    "    model_type: str\n",
    ") -> RegressionModel:\n",
    "    cls = model_cls[model_type]\n",
    "    p = path_to_model(rmsd_threshold, split_type, fold, model_type)\n",
    "    model_ckpt = list(p.glob(\"**/*.ckpt\"))[0]\n",
    "    model_config = p / \"config.json\"\n",
    "    ckp = torch.load(model_ckpt, map_location=\"cpu\")\n",
    "    config = cfg.Config(load_wandb_config(model_config))\n",
    "    model = cls(config)\n",
    "    assert isinstance(model, RegressionModel)\n",
    "    model.load_state_dict(ckp[\"state_dict\"])\n",
    "    return model"
   ]
  },
  {
   "cell_type": "markdown",
   "metadata": {},
   "source": [
    "Load model checkpoints for *scaffold-split* data subject to predicted RMSD $\\leq 4\\text{Å}$, where the $0$-th fold is used as test set."
   ]
  },
  {
   "cell_type": "code",
   "execution_count": 4,
   "metadata": {},
   "outputs": [
    {
     "name": "stderr",
     "output_type": "stream",
     "text": [
      "Failed to detect the name of this notebook, you can set it manually with the WANDB_NOTEBOOK_NAME environment variable to enable code saving.\n"
     ]
    },
    {
     "ename": "RuntimeError",
     "evalue": "Error(s) in loading state_dict for ComplexTransformer:\n\tsize mismatch for out.3.weight: copying a param with shape torch.Size([1, 256]) from checkpoint, the shape in current model is torch.Size([3, 256]).\n\tsize mismatch for out.3.bias: copying a param with shape torch.Size([1]) from checkpoint, the shape in current model is torch.Size([3]).",
     "output_type": "error",
     "traceback": [
      "\u001b[0;31m---------------------------------------------------------------------------\u001b[0m",
      "\u001b[0;31mRuntimeError\u001b[0m                              Traceback (most recent call last)",
      "Cell \u001b[0;32mIn[4], line 1\u001b[0m\n\u001b[0;32m----> 1\u001b[0m cgnn \u001b[38;5;241m=\u001b[39m \u001b[43mload_from_checkpoint\u001b[49m\u001b[43m(\u001b[49m\u001b[38;5;241;43m4\u001b[39;49m\u001b[43m,\u001b[49m\u001b[43m \u001b[49m\u001b[38;5;124;43m\"\u001b[39;49m\u001b[38;5;124;43mscaffold-k-fold\u001b[39;49m\u001b[38;5;124;43m\"\u001b[39;49m\u001b[43m,\u001b[49m\u001b[43m \u001b[49m\u001b[38;5;241;43m0\u001b[39;49m\u001b[43m,\u001b[49m\u001b[43m \u001b[49m\u001b[38;5;124;43m\"\u001b[39;49m\u001b[38;5;124;43mCGNN\u001b[39;49m\u001b[38;5;124;43m\"\u001b[39;49m\u001b[43m)\u001b[49m\n\u001b[1;32m      2\u001b[0m cgnn_3d \u001b[38;5;241m=\u001b[39m load_from_checkpoint(\u001b[38;5;241m4\u001b[39m, \u001b[38;5;124m\"\u001b[39m\u001b[38;5;124mscaffold-k-fold\u001b[39m\u001b[38;5;124m\"\u001b[39m, \u001b[38;5;241m0\u001b[39m, \u001b[38;5;124m\"\u001b[39m\u001b[38;5;124mCGNN-3D\u001b[39m\u001b[38;5;124m\"\u001b[39m) \n\u001b[1;32m      3\u001b[0m dti \u001b[38;5;241m=\u001b[39m load_from_checkpoint(\u001b[38;5;241m4\u001b[39m, \u001b[38;5;124m\"\u001b[39m\u001b[38;5;124mscaffold-k-fold\u001b[39m\u001b[38;5;124m\"\u001b[39m, \u001b[38;5;241m0\u001b[39m, \u001b[38;5;124m\"\u001b[39m\u001b[38;5;124mDTI\u001b[39m\u001b[38;5;124m\"\u001b[39m)\n",
      "Cell \u001b[0;32mIn[3], line 37\u001b[0m, in \u001b[0;36mload_from_checkpoint\u001b[0;34m(rmsd_threshold, split_type, fold, model_type)\u001b[0m\n\u001b[1;32m     35\u001b[0m model \u001b[38;5;241m=\u001b[39m \u001b[38;5;28mcls\u001b[39m(config)\n\u001b[1;32m     36\u001b[0m \u001b[38;5;28;01massert\u001b[39;00m \u001b[38;5;28misinstance\u001b[39m(model, RegressionModel)\n\u001b[0;32m---> 37\u001b[0m \u001b[43mmodel\u001b[49m\u001b[38;5;241;43m.\u001b[39;49m\u001b[43mload_state_dict\u001b[49m\u001b[43m(\u001b[49m\u001b[43mckp\u001b[49m\u001b[43m[\u001b[49m\u001b[38;5;124;43m\"\u001b[39;49m\u001b[38;5;124;43mstate_dict\u001b[39;49m\u001b[38;5;124;43m\"\u001b[39;49m\u001b[43m]\u001b[49m\u001b[43m)\u001b[49m\n\u001b[1;32m     38\u001b[0m \u001b[38;5;28;01mreturn\u001b[39;00m model\n",
      "File \u001b[0;32m~/anaconda3/envs/kinodata_gpu/lib/python3.10/site-packages/torch/nn/modules/module.py:1604\u001b[0m, in \u001b[0;36mModule.load_state_dict\u001b[0;34m(self, state_dict, strict)\u001b[0m\n\u001b[1;32m   1599\u001b[0m         error_msgs\u001b[38;5;241m.\u001b[39minsert(\n\u001b[1;32m   1600\u001b[0m             \u001b[38;5;241m0\u001b[39m, \u001b[38;5;124m'\u001b[39m\u001b[38;5;124mMissing key(s) in state_dict: \u001b[39m\u001b[38;5;132;01m{}\u001b[39;00m\u001b[38;5;124m. \u001b[39m\u001b[38;5;124m'\u001b[39m\u001b[38;5;241m.\u001b[39mformat(\n\u001b[1;32m   1601\u001b[0m                 \u001b[38;5;124m'\u001b[39m\u001b[38;5;124m, \u001b[39m\u001b[38;5;124m'\u001b[39m\u001b[38;5;241m.\u001b[39mjoin(\u001b[38;5;124m'\u001b[39m\u001b[38;5;124m\"\u001b[39m\u001b[38;5;132;01m{}\u001b[39;00m\u001b[38;5;124m\"\u001b[39m\u001b[38;5;124m'\u001b[39m\u001b[38;5;241m.\u001b[39mformat(k) \u001b[38;5;28;01mfor\u001b[39;00m k \u001b[38;5;129;01min\u001b[39;00m missing_keys)))\n\u001b[1;32m   1603\u001b[0m \u001b[38;5;28;01mif\u001b[39;00m \u001b[38;5;28mlen\u001b[39m(error_msgs) \u001b[38;5;241m>\u001b[39m \u001b[38;5;241m0\u001b[39m:\n\u001b[0;32m-> 1604\u001b[0m     \u001b[38;5;28;01mraise\u001b[39;00m \u001b[38;5;167;01mRuntimeError\u001b[39;00m(\u001b[38;5;124m'\u001b[39m\u001b[38;5;124mError(s) in loading state_dict for \u001b[39m\u001b[38;5;132;01m{}\u001b[39;00m\u001b[38;5;124m:\u001b[39m\u001b[38;5;130;01m\\n\u001b[39;00m\u001b[38;5;130;01m\\t\u001b[39;00m\u001b[38;5;132;01m{}\u001b[39;00m\u001b[38;5;124m'\u001b[39m\u001b[38;5;241m.\u001b[39mformat(\n\u001b[1;32m   1605\u001b[0m                        \u001b[38;5;28mself\u001b[39m\u001b[38;5;241m.\u001b[39m\u001b[38;5;18m__class__\u001b[39m\u001b[38;5;241m.\u001b[39m\u001b[38;5;18m__name__\u001b[39m, \u001b[38;5;124m\"\u001b[39m\u001b[38;5;130;01m\\n\u001b[39;00m\u001b[38;5;130;01m\\t\u001b[39;00m\u001b[38;5;124m\"\u001b[39m\u001b[38;5;241m.\u001b[39mjoin(error_msgs)))\n\u001b[1;32m   1606\u001b[0m \u001b[38;5;28;01mreturn\u001b[39;00m _IncompatibleKeys(missing_keys, unexpected_keys)\n",
      "\u001b[0;31mRuntimeError\u001b[0m: Error(s) in loading state_dict for ComplexTransformer:\n\tsize mismatch for out.3.weight: copying a param with shape torch.Size([1, 256]) from checkpoint, the shape in current model is torch.Size([3, 256]).\n\tsize mismatch for out.3.bias: copying a param with shape torch.Size([1]) from checkpoint, the shape in current model is torch.Size([3])."
     ]
    }
   ],
   "source": [
    "cgnn = load_from_checkpoint(4, \"scaffold-k-fold\", 0, \"CGNN\")\n",
    "cgnn_3d = load_from_checkpoint(4, \"scaffold-k-fold\", 0, \"CGNN-3D\") \n",
    "dti = load_from_checkpoint(4, \"scaffold-k-fold\", 0, \"DTI\")"
   ]
  },
  {
   "cell_type": "markdown",
   "metadata": {},
   "source": [
    "Create the matching data module"
   ]
  },
  {
   "cell_type": "code",
   "execution_count": 5,
   "metadata": {},
   "outputs": [
    {
     "name": "stderr",
     "output_type": "stream",
     "text": [
      "Processing...\n"
     ]
    },
    {
     "name": "stdout",
     "output_type": "stream",
     "text": [
      "Entering make_data_list\n",
      "succesfully runing davids funciton\n",
      "File exists\n",
      "Reading data frame from /home/raquellrdc/Desktop/postdoc/fast_ml/kinodata-3D-affinity-prediction/data/raw/posit_combined.sdf...\n",
      "Retrieving file names\n",
      "Retrieving ligand id\n",
      "Retrieving kinase pdb id\n",
      "Retrieving fingerprint similarity\n",
      "Retrieving predicted RMSD\n",
      "Retrieving KLIFS_structure_ID\n",
      "Retrieving UniprotID\n"
     ]
    },
    {
     "name": "stderr",
     "output_type": "stream",
     "text": [
      "100%|██████████| 589/589 [02:08<00:00,  4.58it/s]\n"
     ]
    },
    {
     "name": "stdout",
     "output_type": "stream",
     "text": [
      "Adding pocket sequences...\n",
      "Checking for missing pocket mol2 files...\n"
     ]
    },
    {
     "name": "stderr",
     "output_type": "stream",
     "text": [
      "100%|██████████| 589/589 [00:00<00:00, 28602.38it/s]\n"
     ]
    },
    {
     "name": "stdout",
     "output_type": "stream",
     "text": [
      "Index(['docking.posit_probability', 'docking.chemgauss_score',\n",
      "       'bio:pdb:part:site', 'bio:pdb:part:order', 'bio:pdb:ligand', 'ID',\n",
      "       'compound_structures.canonical_smiles', 'molecule', 'Name',\n",
      "       'ligand_expo_id', 'protein_pdb_id', 'similar.fp_similarity',\n",
      "       'docking.predicted_rmsd', 'structure.pdb_id',\n",
      "       'structure.pocket_sequence', 'similar.klifs_structure_id', 'UniprotID',\n",
      "       'pocket_mol2_file', 'ident'],\n",
      "      dtype='object')\n",
      "DataFrame done\n",
      "Running loop inside make data list\n"
     ]
    },
    {
     "name": "stderr",
     "output_type": "stream",
     "text": [
      "100%|██████████| 100/100 [00:12<00:00,  8.19it/s]\n"
     ]
    },
    {
     "name": "stdout",
     "output_type": "stream",
     "text": [
      "Exiting make_data_list\n",
      "Entering make_data_list\n",
      "succsefully running kinodata function\n",
      "/home/raquellrdc/Desktop/postdoc/fast_ml/kinodata-3D-affinity-prediction/data/raw\n",
      "Reading data frame from /home/raquellrdc/Desktop/postdoc/fast_ml/kinodata-3D-affinity-prediction/data/raw/kinodata_docked_v2.sdf.gz...\n"
     ]
    },
    {
     "name": "stderr",
     "output_type": "stream",
     "text": [
      "Done!\n",
      "Processing...\n"
     ]
    },
    {
     "name": "stdout",
     "output_type": "stream",
     "text": [
      "df reading is done\n",
      "Index(['docking.posit_probability', 'docking.chemgauss_score',\n",
      "       'activities.activity_id', 'assays.chembl_id',\n",
      "       'target_dictionary.chembl_id', 'molecule_dictionary.chembl_id',\n",
      "       'molecule_dictionary.max_phase', 'activities.standard_type',\n",
      "       'activities.standard_value', 'activities.standard_units',\n",
      "       'compound_structures.canonical_smiles',\n",
      "       'compound_structures.standard_inchi', 'component_sequences.sequence',\n",
      "       'assays.confidence_score', 'docs.chembl_id', 'docs.year',\n",
      "       'docs.authors', 'UniprotID', 'similar.klifs_structure_id',\n",
      "       'similar.fp_similarity', 'docking.predicted_rmsd', 'ID', 'molecule'],\n",
      "      dtype='object')\n",
      "pIC50\n",
      "Deduping data frame (current size: 121913)...\n"
     ]
    },
    {
     "name": "stderr",
     "output_type": "stream",
     "text": [
      "/home/raquellrdc/Desktop/postdoc/fast_ml/kinodata-3D-affinity-prediction/kinodata/data/dataset.py:153: SettingWithCopyWarning: \n",
      "A value is trying to be set on a copy of a slice from a DataFrame.\n",
      "Try using .loc[row_indexer,col_indexer] = value instead\n",
      "\n",
      "See the caveats in the documentation: https://pandas.pydata.org/pandas-docs/stable/user_guide/indexing.html#returning-a-view-versus-a-copy\n",
      "  df[\"activities.standard_value\"] = df[\"activities.standard_value\"].astype(float)\n",
      "/home/raquellrdc/Desktop/postdoc/fast_ml/kinodata-3D-affinity-prediction/kinodata/data/dataset.py:154: SettingWithCopyWarning: \n",
      "A value is trying to be set on a copy of a slice from a DataFrame.\n",
      "Try using .loc[row_indexer,col_indexer] = value instead\n",
      "\n",
      "See the caveats in the documentation: https://pandas.pydata.org/pandas-docs/stable/user_guide/indexing.html#returning-a-view-versus-a-copy\n",
      "  df[\"docking.predicted_rmsd\"] = df[\"docking.predicted_rmsd\"].astype(float)\n"
     ]
    },
    {
     "name": "stdout",
     "output_type": "stream",
     "text": [
      "119713 complexes remain after deduplication.\n",
      "Checking for missing pocket mol2 files...\n"
     ]
    },
    {
     "name": "stderr",
     "output_type": "stream",
     "text": [
      "100%|██████████| 3244/3244 [00:00<00:00, 62495.74it/s]\n"
     ]
    },
    {
     "name": "stdout",
     "output_type": "stream",
     "text": [
      "Adding pocket sequences...\n",
      "(119713, 25)\n"
     ]
    },
    {
     "name": "stderr",
     "output_type": "stream",
     "text": [
      "100%|██████████| 119713/119713 [00:00<00:00, 1952727.82it/s]\n"
     ]
    },
    {
     "name": "stdout",
     "output_type": "stream",
     "text": [
      "Exiting with 3552 cached sequences.\n",
      "(119713, 26)\n"
     ]
    },
    {
     "name": "stderr",
     "output_type": "stream",
     "text": [
      "100%|██████████| 100/100 [00:01<00:00, 94.80it/s]\n"
     ]
    },
    {
     "name": "stdout",
     "output_type": "stream",
     "text": [
      "Exiting make_data_list\n",
      "Applying pre filter..\n",
      "/home/raquellrdc/Desktop/postdoc/fast_ml/kinodata-3D-affinity-prediction/data/processed/kinodata/kinodata_docked_v2.pt\n",
      "/home/raquellrdc/Desktop/postdoc/fast_ml/kinodata-3D-affinity-prediction/data\n",
      "['kinodata_docked_v2.pt']\n",
      "/home/raquellrdc/Desktop/postdoc/fast_ml/kinodata-3D-affinity-prediction/data/processed/kinodata/filter_predicted_rmsd_le4.00/kinodata_docked_v2.pt\n",
      "/home/raquellrdc/Desktop/postdoc/fast_ml/kinodata-3D-affinity-prediction/data\n",
      "['kinodata_docked_v2.pt']\n",
      "Creating data module for kinodataset:\n",
      "    split:Split[int64](train=34, val=4, test=5, source=/home/raquellrdc/Desktop/postdoc/fast_ml/kinodata-3D-affinity-prediction/data/processed/kinodata/filter_predicted_rmsd_le4.00/scaffold-k-fold/1:5.csv)\n",
      "    train_transform:Compose([\n",
      "  TransformToComplexGraph()\n",
      "])\n",
      "    val_transform:Compose([\n",
      "  TransformToComplexGraph()\n",
      "])\n"
     ]
    },
    {
     "name": "stderr",
     "output_type": "stream",
     "text": [
      "Done!\n",
      "Processing...\n",
      "Done!\n",
      "Processing...\n",
      "Done!\n"
     ]
    },
    {
     "name": "stdout",
     "output_type": "stream",
     "text": [
      "/home/raquellrdc/Desktop/postdoc/fast_ml/kinodata-3D-affinity-prediction/data/processed/kinodata/filter_predicted_rmsd_le4.00/kinodata_docked_v2.pt\n",
      "/home/raquellrdc/Desktop/postdoc/fast_ml/kinodata-3D-affinity-prediction/data\n",
      "['kinodata_docked_v2.pt']\n",
      "/home/raquellrdc/Desktop/postdoc/fast_ml/kinodata-3D-affinity-prediction/data/processed/kinodata/filter_predicted_rmsd_le4.00/kinodata_docked_v2.pt\n",
      "/home/raquellrdc/Desktop/postdoc/fast_ml/kinodata-3D-affinity-prediction/data\n",
      "['kinodata_docked_v2.pt']\n",
      "/home/raquellrdc/Desktop/postdoc/fast_ml/kinodata-3D-affinity-prediction/data/processed/kinodata/filter_predicted_rmsd_le4.00/kinodata_docked_v2.pt\n",
      "/home/raquellrdc/Desktop/postdoc/fast_ml/kinodata-3D-affinity-prediction/data\n",
      "['kinodata_docked_v2.pt']\n",
      "Creating data module for davidsdockeddataset:\n",
      "    split:Split[int64](train=27, val=5, test=5, source=/home/raquellrdc/Desktop/postdoc/fast_ml/kinodata-3D-affinity-prediction/data/processed/davidsdocked/filter_predicted_rmsd_le4.00/scaffold-k-fold/1:5.csv)\n",
      "    train_transform:Compose([\n",
      "  TransformToComplexGraph()\n",
      "])\n",
      "    val_transform:Compose([\n",
      "  TransformToComplexGraph()\n",
      "])\n",
      "the length of the data set is\n",
      "<class 'kinodata.data.dataset_davids_data.Filtered_david.<locals>.FilteredDataset'>\n"
     ]
    }
   ],
   "source": [
    "data_module = make_kinodata_module(\n",
    "    cfg.get(\"data\", \"training\").update(\n",
    "        dict(\n",
    "            batch_size=32,\n",
    "            split_type=\"scaffold-k-fold\",\n",
    "            filter_rmsd_max_value=4.0,\n",
    "            split_index=0,\n",
    "        )\n",
    "    ),\n",
    "    transforms=[TransformToComplexGraph(remove_heterogeneous_representation=False)],\n",
    ")"
   ]
  },
  {
   "cell_type": "markdown",
   "metadata": {},
   "source": [
    "Fast way of demonstrating inference on just one test batch:"
   ]
  },
  {
   "cell_type": "code",
   "execution_count": null,
   "metadata": {},
   "outputs": [
    {
     "name": "stderr",
     "output_type": "stream",
     "text": [
      "/Users/joschka/mambaforge/envs/kinodata/lib/python3.10/site-packages/pytorch_lightning/core/module.py:377: UserWarning: You are trying to `self.log()` but the `self.trainer` reference is not registered on the model yet. This is most likely because the model hasn't been passed to the `Trainer`\n",
      "  rank_zero_warn(\n"
     ]
    },
    {
     "data": {
      "text/plain": [
       "{'DTI sample test MAE': tensor(0.9323),\n",
       " 'CGNN sample test MAE': tensor(0.9237),\n",
       " 'CGNN-3D sample test MAE': tensor(0.9096)}"
      ]
     },
     "execution_count": 6,
     "metadata": {},
     "output_type": "execute_result"
    }
   ],
   "source": [
    "demo_test_batch = next(iter(data_module.test_dataloader()))\n",
    "with torch.no_grad():\n",
    "    mae_sample = {\n",
    "        \"DTI sample test MAE\": dti.test_step(demo_test_batch)[\"test/mae\"],\n",
    "        \"CGNN sample test MAE\": cgnn.test_step(demo_test_batch)[\"test/mae\"],\n",
    "        \"CGNN-3D sample test MAE\": cgnn_3d.test_step(demo_test_batch)[\"test/mae\"],\n",
    "    }\n",
    "mae_sample"
   ]
  },
  {
   "cell_type": "markdown",
   "metadata": {},
   "source": [
    "Test all three models using all test data in the current data module"
   ]
  },
  {
   "cell_type": "code",
   "execution_count": null,
   "metadata": {},
   "outputs": [],
   "source": [
    "from pytorch_lightning import Trainer"
   ]
  },
  {
   "cell_type": "code",
   "execution_count": null,
   "metadata": {},
   "outputs": [
    {
     "name": "stderr",
     "output_type": "stream",
     "text": [
      "GPU available: False, used: False\n",
      "TPU available: False, using: 0 TPU cores\n",
      "IPU available: False, using: 0 IPUs\n",
      "HPU available: False, using: 0 HPUs\n",
      "/Users/joschka/mambaforge/envs/kinodata/lib/python3.10/site-packages/pytorch_lightning/trainer/connectors/data_connector.py:224: PossibleUserWarning: The dataloader, test_dataloader 0, does not have many workers which may be a bottleneck. Consider increasing the value of the `num_workers` argument` (try 16 which is the number of cpus on this machine) in the `DataLoader` init to improve performance.\n",
      "  rank_zero_warn(\n"
     ]
    },
    {
     "name": "stdout",
     "output_type": "stream",
     "text": [
      "Testing DataLoader 0: 100%|██████████| 136/136 [00:08<00:00, 16.55it/s]\n",
      "────────────────────────────────────────────────────────────────────────────────────────────────────────────────────────\n",
      "       Test metric             DataLoader 0\n",
      "────────────────────────────────────────────────────────────────────────────────────────────────────────────────────────\n",
      "        test/corr           0.5125585198402405\n",
      "        test/mae            0.8224371671676636\n",
      "────────────────────────────────────────────────────────────────────────────────────────────────────────────────────────\n",
      "Testing DataLoader 0: 100%|██████████| 136/136 [02:07<00:00,  1.07it/s]\n",
      "────────────────────────────────────────────────────────────────────────────────────────────────────────────────────────\n",
      "       Test metric             DataLoader 0\n",
      "────────────────────────────────────────────────────────────────────────────────────────────────────────────────────────\n",
      "        test/corr           0.4546387493610382\n",
      "        test/mae            0.8519962430000305\n",
      "────────────────────────────────────────────────────────────────────────────────────────────────────────────────────────\n",
      "Testing DataLoader 0: 100%|██████████| 136/136 [14:13<00:00,  6.28s/it]\n",
      "────────────────────────────────────────────────────────────────────────────────────────────────────────────────────────\n",
      "       Test metric             DataLoader 0\n",
      "────────────────────────────────────────────────────────────────────────────────────────────────────────────────────────\n",
      "        test/corr            0.632169246673584\n",
      "        test/mae            0.7448561787605286\n",
      "────────────────────────────────────────────────────────────────────────────────────────────────────────────────────────\n"
     ]
    }
   ],
   "source": [
    "trainer = Trainer(logger=False)\n",
    "dti_metrics = trainer.test(model=dti, datamodule=data_module, ckpt_path=None)\n",
    "cgnn_metrics = trainer.test(model=cgnn, datamodule=data_module, ckpt_path=None)\n",
    "cgnn_3d_metrics = trainer.test(model=cgnn_3d, datamodule=data_module, ckpt_path=None)"
   ]
  },
  {
   "cell_type": "markdown",
   "metadata": {},
   "source": [
    "Display results"
   ]
  },
  {
   "cell_type": "code",
   "execution_count": null,
   "metadata": {},
   "outputs": [
    {
     "data": {
      "text/plain": [
       "{'DTI': [{'test/mae': 0.8224371671676636, 'test/corr': 0.5125585198402405}],\n",
       " 'CGNN': [{'test/mae': 0.8519962430000305, 'test/corr': 0.4546387493610382}],\n",
       " 'CGNN-3D': [{'test/mae': 0.7448561787605286, 'test/corr': 0.632169246673584}]}"
      ]
     },
     "execution_count": 10,
     "metadata": {},
     "output_type": "execute_result"
    }
   ],
   "source": [
    "{\n",
    "    \"DTI\": dti_metrics, \n",
    "    \"CGNN\": cgnn_metrics, \n",
    "    \"CGNN-3D\": cgnn_3d_metrics\n",
    "}"
   ]
  }
 ],
 "metadata": {
  "kernelspec": {
   "display_name": "Python 3.10.8 ('kinodata')",
   "language": "python",
   "name": "python3"
  },
  "language_info": {
   "codemirror_mode": {
    "name": "ipython",
    "version": 3
   },
   "file_extension": ".py",
   "mimetype": "text/x-python",
   "name": "python",
   "nbconvert_exporter": "python",
   "pygments_lexer": "ipython3",
   "version": "3.10.8"
  },
  "orig_nbformat": 4,
  "vscode": {
   "interpreter": {
    "hash": "528a87b2665604848835e963d9b59f6a2ef408edd78da891397a1684bf62ca9e"
   }
  }
 },
 "nbformat": 4,
 "nbformat_minor": 2
}
